{
  "nbformat": 4,
  "nbformat_minor": 0,
  "metadata": {
    "colab": {
      "name": "monkey_pox.ipynb",
      "provenance": [],
      "collapsed_sections": [],
      "include_colab_link": true
    },
    "kernelspec": {
      "name": "python3",
      "display_name": "Python 3"
    },
    "language_info": {
      "name": "python"
    }
  },
  "cells": [
    {
      "cell_type": "markdown",
      "metadata": {
        "id": "view-in-github",
        "colab_type": "text"
      },
      "source": [
        "<a href=\"https://colab.research.google.com/github/godwinnwalozie/Monkeypox-Outbreak-Year-2022-Data-Analysis/blob/main/monkey_pox.ipynb\" target=\"_parent\"><img src=\"https://colab.research.google.com/assets/colab-badge.svg\" alt=\"Open In Colab\"/></a>"
      ]
    },
    {
      "cell_type": "code",
      "source": [
        "from google.colab import drive\n",
        "drive.mount('/content/drive')"
      ],
      "metadata": {
        "colab": {
          "base_uri": "https://localhost:8080/"
        },
        "id": "HOJ8-Zi8Xuar",
        "outputId": "1cff4791-f151-4828-9a49-d01dbbbfe747"
      },
      "execution_count": 1,
      "outputs": [
        {
          "output_type": "stream",
          "name": "stdout",
          "text": [
            "Mounted at /content/drive\n"
          ]
        }
      ]
    },
    {
      "cell_type": "code",
      "execution_count": 2,
      "metadata": {
        "id": "lhJkYUkrMtIx"
      },
      "outputs": [],
      "source": [
        "import numpy as np\n",
        "import pandas as pd\n",
        "import matplotlib.pyplot as plt\n",
        "import seaborn as sns\n",
        "from datetime import datetime\n",
        "from random import random\n",
        "from dateutil import parser\n",
        "%matplotlib inline\n",
        "sns.set_style('white')"
      ]
    },
    {
      "cell_type": "code",
      "source": [
        "mp = pd.read_csv('/content/drive/MyDrive/Colab Notebooks/monkeypox-outbreak/Monkeypox.csv')\n",
        "mp.head()"
      ],
      "metadata": {
        "id": "xzaC92PDM_i7",
        "colab": {
          "base_uri": "https://localhost:8080/",
          "height": 456
        },
        "outputId": "93a2a241-e0dd-4bc5-97a0-cfcb81e2a819"
      },
      "execution_count": 3,
      "outputs": [
        {
          "output_type": "execute_result",
          "data": {
            "text/plain": [
              "    ID     Status                             Location    City  Country  Age  \\\n",
              "0  1.0  confirmed  Guy's and St Thomas Hospital London  London  England  NaN   \n",
              "1  2.0  confirmed  Guy's and St Thomas Hospital London  London  England  NaN   \n",
              "2  3.0  confirmed                               London  London  England  NaN   \n",
              "3  4.0  confirmed                               London  London  England  NaN   \n",
              "4  5.0  confirmed                               London  London  England  NaN   \n",
              "\n",
              "  Gender  Date_onset Date_confirmation        Symptoms  ...  \\\n",
              "0    NaN  2022-04-29        2022-05-06            rash  ...   \n",
              "1    NaN  2022-05-05        2022-05-12            rash  ...   \n",
              "2    NaN  2022-04-30        2022-05-13  vesicular rash  ...   \n",
              "3   male         NaN        2022-05-15  vesicular rash  ...   \n",
              "4   male         NaN        2022-05-15  vesicular rash  ...   \n",
              "\n",
              "  Travel_history_location Travel_history_country   Genomics_Metadata  \\\n",
              "0  Lagos and Delta States                Nigeria  West African Clade   \n",
              "1                     NaN                    NaN  West African Clade   \n",
              "2                     NaN                    NaN  West African Clade   \n",
              "3                     NaN                    NaN  West African Clade   \n",
              "4                     NaN                    NaN  West African Clade   \n",
              "\n",
              "  Confirmation_method                                             Source  \\\n",
              "0              RT-PCR  https://www.gov.uk/government/news/monkeypox-c...   \n",
              "1              RT-PCR  https://www.gov.uk/government/news/monkeypox-c...   \n",
              "2              RT-PCR  https://www.gov.uk/government/news/monkeypox-c...   \n",
              "3                 NaN  https://www.gov.uk/government/news/monkeypox-c...   \n",
              "4                 NaN  https://www.gov.uk/government/news/monkeypox-c...   \n",
              "\n",
              "                                           Source_II  Date_entry  \\\n",
              "0  https://www.who.int/emergencies/disease-outbre...  2022-05-18   \n",
              "1                                                NaN  2022-05-18   \n",
              "2                                                NaN  2022-05-18   \n",
              "3                                                NaN  2022-05-18   \n",
              "4                                                NaN  2022-05-18   \n",
              "\n",
              "  Date_last_modified Source_III Country_ISO3  \n",
              "0         2022-05-18        NaN          GBR  \n",
              "1         2022-05-18        NaN          GBR  \n",
              "2         2022-05-18        NaN          GBR  \n",
              "3         2022-05-18        NaN          GBR  \n",
              "4         2022-05-18        NaN          GBR  \n",
              "\n",
              "[5 rows x 31 columns]"
            ],
            "text/html": [
              "\n",
              "  <div id=\"df-8888c302-1e24-43b3-bf66-a28a65fee909\">\n",
              "    <div class=\"colab-df-container\">\n",
              "      <div>\n",
              "<style scoped>\n",
              "    .dataframe tbody tr th:only-of-type {\n",
              "        vertical-align: middle;\n",
              "    }\n",
              "\n",
              "    .dataframe tbody tr th {\n",
              "        vertical-align: top;\n",
              "    }\n",
              "\n",
              "    .dataframe thead th {\n",
              "        text-align: right;\n",
              "    }\n",
              "</style>\n",
              "<table border=\"1\" class=\"dataframe\">\n",
              "  <thead>\n",
              "    <tr style=\"text-align: right;\">\n",
              "      <th></th>\n",
              "      <th>ID</th>\n",
              "      <th>Status</th>\n",
              "      <th>Location</th>\n",
              "      <th>City</th>\n",
              "      <th>Country</th>\n",
              "      <th>Age</th>\n",
              "      <th>Gender</th>\n",
              "      <th>Date_onset</th>\n",
              "      <th>Date_confirmation</th>\n",
              "      <th>Symptoms</th>\n",
              "      <th>...</th>\n",
              "      <th>Travel_history_location</th>\n",
              "      <th>Travel_history_country</th>\n",
              "      <th>Genomics_Metadata</th>\n",
              "      <th>Confirmation_method</th>\n",
              "      <th>Source</th>\n",
              "      <th>Source_II</th>\n",
              "      <th>Date_entry</th>\n",
              "      <th>Date_last_modified</th>\n",
              "      <th>Source_III</th>\n",
              "      <th>Country_ISO3</th>\n",
              "    </tr>\n",
              "  </thead>\n",
              "  <tbody>\n",
              "    <tr>\n",
              "      <th>0</th>\n",
              "      <td>1.0</td>\n",
              "      <td>confirmed</td>\n",
              "      <td>Guy's and St Thomas Hospital London</td>\n",
              "      <td>London</td>\n",
              "      <td>England</td>\n",
              "      <td>NaN</td>\n",
              "      <td>NaN</td>\n",
              "      <td>2022-04-29</td>\n",
              "      <td>2022-05-06</td>\n",
              "      <td>rash</td>\n",
              "      <td>...</td>\n",
              "      <td>Lagos and Delta States</td>\n",
              "      <td>Nigeria</td>\n",
              "      <td>West African Clade</td>\n",
              "      <td>RT-PCR</td>\n",
              "      <td>https://www.gov.uk/government/news/monkeypox-c...</td>\n",
              "      <td>https://www.who.int/emergencies/disease-outbre...</td>\n",
              "      <td>2022-05-18</td>\n",
              "      <td>2022-05-18</td>\n",
              "      <td>NaN</td>\n",
              "      <td>GBR</td>\n",
              "    </tr>\n",
              "    <tr>\n",
              "      <th>1</th>\n",
              "      <td>2.0</td>\n",
              "      <td>confirmed</td>\n",
              "      <td>Guy's and St Thomas Hospital London</td>\n",
              "      <td>London</td>\n",
              "      <td>England</td>\n",
              "      <td>NaN</td>\n",
              "      <td>NaN</td>\n",
              "      <td>2022-05-05</td>\n",
              "      <td>2022-05-12</td>\n",
              "      <td>rash</td>\n",
              "      <td>...</td>\n",
              "      <td>NaN</td>\n",
              "      <td>NaN</td>\n",
              "      <td>West African Clade</td>\n",
              "      <td>RT-PCR</td>\n",
              "      <td>https://www.gov.uk/government/news/monkeypox-c...</td>\n",
              "      <td>NaN</td>\n",
              "      <td>2022-05-18</td>\n",
              "      <td>2022-05-18</td>\n",
              "      <td>NaN</td>\n",
              "      <td>GBR</td>\n",
              "    </tr>\n",
              "    <tr>\n",
              "      <th>2</th>\n",
              "      <td>3.0</td>\n",
              "      <td>confirmed</td>\n",
              "      <td>London</td>\n",
              "      <td>London</td>\n",
              "      <td>England</td>\n",
              "      <td>NaN</td>\n",
              "      <td>NaN</td>\n",
              "      <td>2022-04-30</td>\n",
              "      <td>2022-05-13</td>\n",
              "      <td>vesicular rash</td>\n",
              "      <td>...</td>\n",
              "      <td>NaN</td>\n",
              "      <td>NaN</td>\n",
              "      <td>West African Clade</td>\n",
              "      <td>RT-PCR</td>\n",
              "      <td>https://www.gov.uk/government/news/monkeypox-c...</td>\n",
              "      <td>NaN</td>\n",
              "      <td>2022-05-18</td>\n",
              "      <td>2022-05-18</td>\n",
              "      <td>NaN</td>\n",
              "      <td>GBR</td>\n",
              "    </tr>\n",
              "    <tr>\n",
              "      <th>3</th>\n",
              "      <td>4.0</td>\n",
              "      <td>confirmed</td>\n",
              "      <td>London</td>\n",
              "      <td>London</td>\n",
              "      <td>England</td>\n",
              "      <td>NaN</td>\n",
              "      <td>male</td>\n",
              "      <td>NaN</td>\n",
              "      <td>2022-05-15</td>\n",
              "      <td>vesicular rash</td>\n",
              "      <td>...</td>\n",
              "      <td>NaN</td>\n",
              "      <td>NaN</td>\n",
              "      <td>West African Clade</td>\n",
              "      <td>NaN</td>\n",
              "      <td>https://www.gov.uk/government/news/monkeypox-c...</td>\n",
              "      <td>NaN</td>\n",
              "      <td>2022-05-18</td>\n",
              "      <td>2022-05-18</td>\n",
              "      <td>NaN</td>\n",
              "      <td>GBR</td>\n",
              "    </tr>\n",
              "    <tr>\n",
              "      <th>4</th>\n",
              "      <td>5.0</td>\n",
              "      <td>confirmed</td>\n",
              "      <td>London</td>\n",
              "      <td>London</td>\n",
              "      <td>England</td>\n",
              "      <td>NaN</td>\n",
              "      <td>male</td>\n",
              "      <td>NaN</td>\n",
              "      <td>2022-05-15</td>\n",
              "      <td>vesicular rash</td>\n",
              "      <td>...</td>\n",
              "      <td>NaN</td>\n",
              "      <td>NaN</td>\n",
              "      <td>West African Clade</td>\n",
              "      <td>NaN</td>\n",
              "      <td>https://www.gov.uk/government/news/monkeypox-c...</td>\n",
              "      <td>NaN</td>\n",
              "      <td>2022-05-18</td>\n",
              "      <td>2022-05-18</td>\n",
              "      <td>NaN</td>\n",
              "      <td>GBR</td>\n",
              "    </tr>\n",
              "  </tbody>\n",
              "</table>\n",
              "<p>5 rows × 31 columns</p>\n",
              "</div>\n",
              "      <button class=\"colab-df-convert\" onclick=\"convertToInteractive('df-8888c302-1e24-43b3-bf66-a28a65fee909')\"\n",
              "              title=\"Convert this dataframe to an interactive table.\"\n",
              "              style=\"display:none;\">\n",
              "        \n",
              "  <svg xmlns=\"http://www.w3.org/2000/svg\" height=\"24px\"viewBox=\"0 0 24 24\"\n",
              "       width=\"24px\">\n",
              "    <path d=\"M0 0h24v24H0V0z\" fill=\"none\"/>\n",
              "    <path d=\"M18.56 5.44l.94 2.06.94-2.06 2.06-.94-2.06-.94-.94-2.06-.94 2.06-2.06.94zm-11 1L8.5 8.5l.94-2.06 2.06-.94-2.06-.94L8.5 2.5l-.94 2.06-2.06.94zm10 10l.94 2.06.94-2.06 2.06-.94-2.06-.94-.94-2.06-.94 2.06-2.06.94z\"/><path d=\"M17.41 7.96l-1.37-1.37c-.4-.4-.92-.59-1.43-.59-.52 0-1.04.2-1.43.59L10.3 9.45l-7.72 7.72c-.78.78-.78 2.05 0 2.83L4 21.41c.39.39.9.59 1.41.59.51 0 1.02-.2 1.41-.59l7.78-7.78 2.81-2.81c.8-.78.8-2.07 0-2.86zM5.41 20L4 18.59l7.72-7.72 1.47 1.35L5.41 20z\"/>\n",
              "  </svg>\n",
              "      </button>\n",
              "      \n",
              "  <style>\n",
              "    .colab-df-container {\n",
              "      display:flex;\n",
              "      flex-wrap:wrap;\n",
              "      gap: 12px;\n",
              "    }\n",
              "\n",
              "    .colab-df-convert {\n",
              "      background-color: #E8F0FE;\n",
              "      border: none;\n",
              "      border-radius: 50%;\n",
              "      cursor: pointer;\n",
              "      display: none;\n",
              "      fill: #1967D2;\n",
              "      height: 32px;\n",
              "      padding: 0 0 0 0;\n",
              "      width: 32px;\n",
              "    }\n",
              "\n",
              "    .colab-df-convert:hover {\n",
              "      background-color: #E2EBFA;\n",
              "      box-shadow: 0px 1px 2px rgba(60, 64, 67, 0.3), 0px 1px 3px 1px rgba(60, 64, 67, 0.15);\n",
              "      fill: #174EA6;\n",
              "    }\n",
              "\n",
              "    [theme=dark] .colab-df-convert {\n",
              "      background-color: #3B4455;\n",
              "      fill: #D2E3FC;\n",
              "    }\n",
              "\n",
              "    [theme=dark] .colab-df-convert:hover {\n",
              "      background-color: #434B5C;\n",
              "      box-shadow: 0px 1px 3px 1px rgba(0, 0, 0, 0.15);\n",
              "      filter: drop-shadow(0px 1px 2px rgba(0, 0, 0, 0.3));\n",
              "      fill: #FFFFFF;\n",
              "    }\n",
              "  </style>\n",
              "\n",
              "      <script>\n",
              "        const buttonEl =\n",
              "          document.querySelector('#df-8888c302-1e24-43b3-bf66-a28a65fee909 button.colab-df-convert');\n",
              "        buttonEl.style.display =\n",
              "          google.colab.kernel.accessAllowed ? 'block' : 'none';\n",
              "\n",
              "        async function convertToInteractive(key) {\n",
              "          const element = document.querySelector('#df-8888c302-1e24-43b3-bf66-a28a65fee909');\n",
              "          const dataTable =\n",
              "            await google.colab.kernel.invokeFunction('convertToInteractive',\n",
              "                                                     [key], {});\n",
              "          if (!dataTable) return;\n",
              "\n",
              "          const docLinkHtml = 'Like what you see? Visit the ' +\n",
              "            '<a target=\"_blank\" href=https://colab.research.google.com/notebooks/data_table.ipynb>data table notebook</a>'\n",
              "            + ' to learn more about interactive tables.';\n",
              "          element.innerHTML = '';\n",
              "          dataTable['output_type'] = 'display_data';\n",
              "          await google.colab.output.renderOutput(dataTable, element);\n",
              "          const docLink = document.createElement('div');\n",
              "          docLink.innerHTML = docLinkHtml;\n",
              "          element.appendChild(docLink);\n",
              "        }\n",
              "      </script>\n",
              "    </div>\n",
              "  </div>\n",
              "  "
            ]
          },
          "metadata": {},
          "execution_count": 3
        }
      ]
    },
    {
      "cell_type": "code",
      "source": [
        "print(f'columns = {mp.columns}')\n",
        "print()\n",
        "print(f'shape = {mp.shape}')\n",
        "print()\n",
        "print(f'info = {mp.info()}')\n"
      ],
      "metadata": {
        "colab": {
          "base_uri": "https://localhost:8080/"
        },
        "id": "FubxMVpAPvFD",
        "outputId": "d647bf48-e770-40c3-ac6f-acf30cbd18e0"
      },
      "execution_count": 4,
      "outputs": [
        {
          "output_type": "stream",
          "name": "stdout",
          "text": [
            "columns = Index(['ID', 'Status', 'Location', 'City', 'Country', 'Age', 'Gender',\n",
            "       'Date_onset', 'Date_confirmation', 'Symptoms', 'Hospitalised (Y/N/NA)',\n",
            "       'Date_hospitalisation', 'Isolated (Y/N/NA)', 'Date_isolation',\n",
            "       'Outcome', 'Contact_comment', 'Contact_ID', 'Contact_location',\n",
            "       'Travel_history (Y/N/NA)', 'Travel_history_entry',\n",
            "       'Travel_history_start', 'Travel_history_location',\n",
            "       'Travel_history_country', 'Genomics_Metadata', 'Confirmation_method',\n",
            "       'Source', 'Source_II', 'Date_entry', 'Date_last_modified', 'Source_III',\n",
            "       'Country_ISO3'],\n",
            "      dtype='object')\n",
            "\n",
            "shape = (1133, 31)\n",
            "\n",
            "<class 'pandas.core.frame.DataFrame'>\n",
            "RangeIndex: 1133 entries, 0 to 1132\n",
            "Data columns (total 31 columns):\n",
            " #   Column                   Non-Null Count  Dtype  \n",
            "---  ------                   --------------  -----  \n",
            " 0   ID                       1132 non-null   float64\n",
            " 1   Status                   1132 non-null   object \n",
            " 2   Location                 476 non-null    object \n",
            " 3   City                     371 non-null    object \n",
            " 4   Country                  1132 non-null   object \n",
            " 5   Age                      168 non-null    object \n",
            " 6   Gender                   319 non-null    object \n",
            " 7   Date_onset               8 non-null      object \n",
            " 8   Date_confirmation        920 non-null    object \n",
            " 9   Symptoms                 111 non-null    object \n",
            " 10  Hospitalised (Y/N/NA)    132 non-null    object \n",
            " 11  Date_hospitalisation     13 non-null     object \n",
            " 12  Isolated (Y/N/NA)        141 non-null    object \n",
            " 13  Date_isolation           11 non-null     object \n",
            " 14  Outcome                  1 non-null      object \n",
            " 15  Contact_comment          36 non-null     object \n",
            " 16  Contact_ID               7 non-null      float64\n",
            " 17  Contact_location         4 non-null      object \n",
            " 18  Travel_history (Y/N/NA)  129 non-null    object \n",
            " 19  Travel_history_entry     12 non-null     object \n",
            " 20  Travel_history_start     4 non-null      object \n",
            " 21  Travel_history_location  27 non-null     object \n",
            " 22  Travel_history_country   33 non-null     object \n",
            " 23  Genomics_Metadata        23 non-null     object \n",
            " 24  Confirmation_method      88 non-null     object \n",
            " 25  Source                   1132 non-null   object \n",
            " 26  Source_II                329 non-null    object \n",
            " 27  Date_entry               1131 non-null   object \n",
            " 28  Date_last_modified       1131 non-null   object \n",
            " 29  Source_III               42 non-null     object \n",
            " 30  Country_ISO3             1131 non-null   object \n",
            "dtypes: float64(2), object(29)\n",
            "memory usage: 274.5+ KB\n",
            "info = None\n"
          ]
        }
      ]
    },
    {
      "cell_type": "code",
      "source": [
        "mp.isna().sum()"
      ],
      "metadata": {
        "colab": {
          "base_uri": "https://localhost:8080/"
        },
        "id": "UR5g_gHnQoDs",
        "outputId": "bc2ce07b-ccda-4817-e676-5b659e10d261"
      },
      "execution_count": 5,
      "outputs": [
        {
          "output_type": "execute_result",
          "data": {
            "text/plain": [
              "ID                            1\n",
              "Status                        1\n",
              "Location                    657\n",
              "City                        762\n",
              "Country                       1\n",
              "Age                         965\n",
              "Gender                      814\n",
              "Date_onset                 1125\n",
              "Date_confirmation           213\n",
              "Symptoms                   1022\n",
              "Hospitalised (Y/N/NA)      1001\n",
              "Date_hospitalisation       1120\n",
              "Isolated (Y/N/NA)           992\n",
              "Date_isolation             1122\n",
              "Outcome                    1132\n",
              "Contact_comment            1097\n",
              "Contact_ID                 1126\n",
              "Contact_location           1129\n",
              "Travel_history (Y/N/NA)    1004\n",
              "Travel_history_entry       1121\n",
              "Travel_history_start       1129\n",
              "Travel_history_location    1106\n",
              "Travel_history_country     1100\n",
              "Genomics_Metadata          1110\n",
              "Confirmation_method        1045\n",
              "Source                        1\n",
              "Source_II                   804\n",
              "Date_entry                    2\n",
              "Date_last_modified            2\n",
              "Source_III                 1091\n",
              "Country_ISO3                  2\n",
              "dtype: int64"
            ]
          },
          "metadata": {},
          "execution_count": 5
        }
      ]
    },
    {
      "cell_type": "code",
      "source": [
        "\n",
        "# Cases By Countries\n",
        "country_cases = mp.Country.value_counts()\n",
        "country_cases[:10]"
      ],
      "metadata": {
        "colab": {
          "base_uri": "https://localhost:8080/"
        },
        "id": "HZmLAL2_SDqG",
        "outputId": "408779bd-8b71-4230-9cfd-057fa142077b"
      },
      "execution_count": 73,
      "outputs": [
        {
          "output_type": "execute_result",
          "data": {
            "text/plain": [
              "Spain            327\n",
              "England          214\n",
              "Portugal         143\n",
              "Canada            97\n",
              "Germany           66\n",
              "France            51\n",
              "Netherlands       40\n",
              "Italy             29\n",
              "United States     28\n",
              "Belgium           17\n",
              "Name: Country, dtype: int64"
            ]
          },
          "metadata": {},
          "execution_count": 73
        }
      ]
    },
    {
      "cell_type": "markdown",
      "source": [
        "# Country by cases of monkey pox"
      ],
      "metadata": {
        "id": "ZEzn367MfGnJ"
      }
    },
    {
      "cell_type": "code",
      "source": [
        "fig,ax = plt.subplots(figsize = (15, 6))\n",
        "country_cases.plot(kind = 'bar'),\n",
        "ax.set(title = 'Country by cases of monkey pox');"
      ],
      "metadata": {
        "colab": {
          "base_uri": "https://localhost:8080/",
          "height": 487
        },
        "id": "e3dwrX70SC5k",
        "outputId": "038f3fc3-df3f-48a6-8715-9d1d4e17673f"
      },
      "execution_count": 71,
      "outputs": [
        {
          "output_type": "display_data",
          "data": {
            "text/plain": [
              "<Figure size 1080x432 with 1 Axes>"
            ],
            "image/png": "[encoded data removed]"
          },
          "metadata": {}
        }
      ]
    },
    {
      "cell_type": "code",
      "source": [
        "sym = mp.Symptoms.value_counts().to_frame().reset_index().rename({'index' :'symptoms', 'Symptoms': 'count'},axis = 1).reset_index(drop = True)\n",
        "sym[:10]"
      ],
      "metadata": {
        "colab": {
          "base_uri": "https://localhost:8080/",
          "height": 363
        },
        "id": "9M3Elht5TREg",
        "outputId": "180c5f43-f8de-4bc1-da9e-ad037a3708ad"
      },
      "execution_count": 72,
      "outputs": [
        {
          "output_type": "execute_result",
          "data": {
            "text/plain": [
              "                           symptoms  count\n",
              "0             genital ulcer lesions     30\n",
              "1    oral and genital ulcers; fever     17\n",
              "2                ulcerative lesions     16\n",
              "3  skin lesions; ulcerative lesions      5\n",
              "4                    genital ulcers      5\n",
              "5                    vesicular rash      5\n",
              "6                      skin lesions      4\n",
              "7                              rash      2\n",
              "8                       skin rashes      2\n",
              "9               fever; skin lesions      2"
            ],
            "text/html": [
              "\n",
              "  <div id=\"df-90093363-a99d-4fe1-8b1a-19484bc7a36f\">\n",
              "    <div class=\"colab-df-container\">\n",
              "      <div>\n",
              "<style scoped>\n",
              "    .dataframe tbody tr th:only-of-type {\n",
              "        vertical-align: middle;\n",
              "    }\n",
              "\n",
              "    .dataframe tbody tr th {\n",
              "        vertical-align: top;\n",
              "    }\n",
              "\n",
              "    .dataframe thead th {\n",
              "        text-align: right;\n",
              "    }\n",
              "</style>\n",
              "<table border=\"1\" class=\"dataframe\">\n",
              "  <thead>\n",
              "    <tr style=\"text-align: right;\">\n",
              "      <th></th>\n",
              "      <th>symptoms</th>\n",
              "      <th>count</th>\n",
              "    </tr>\n",
              "  </thead>\n",
              "  <tbody>\n",
              "    <tr>\n",
              "      <th>0</th>\n",
              "      <td>genital ulcer lesions</td>\n",
              "      <td>30</td>\n",
              "    </tr>\n",
              "    <tr>\n",
              "      <th>1</th>\n",
              "      <td>oral and genital ulcers; fever</td>\n",
              "      <td>17</td>\n",
              "    </tr>\n",
              "    <tr>\n",
              "      <th>2</th>\n",
              "      <td>ulcerative lesions</td>\n",
              "      <td>16</td>\n",
              "    </tr>\n",
              "    <tr>\n",
              "      <th>3</th>\n",
              "      <td>skin lesions; ulcerative lesions</td>\n",
              "      <td>5</td>\n",
              "    </tr>\n",
              "    <tr>\n",
              "      <th>4</th>\n",
              "      <td>genital ulcers</td>\n",
              "      <td>5</td>\n",
              "    </tr>\n",
              "    <tr>\n",
              "      <th>5</th>\n",
              "      <td>vesicular rash</td>\n",
              "      <td>5</td>\n",
              "    </tr>\n",
              "    <tr>\n",
              "      <th>6</th>\n",
              "      <td>skin lesions</td>\n",
              "      <td>4</td>\n",
              "    </tr>\n",
              "    <tr>\n",
              "      <th>7</th>\n",
              "      <td>rash</td>\n",
              "      <td>2</td>\n",
              "    </tr>\n",
              "    <tr>\n",
              "      <th>8</th>\n",
              "      <td>skin rashes</td>\n",
              "      <td>2</td>\n",
              "    </tr>\n",
              "    <tr>\n",
              "      <th>9</th>\n",
              "      <td>fever; skin lesions</td>\n",
              "      <td>2</td>\n",
              "    </tr>\n",
              "  </tbody>\n",
              "</table>\n",
              "</div>\n",
              "      <button class=\"colab-df-convert\" onclick=\"convertToInteractive('df-90093363-a99d-4fe1-8b1a-19484bc7a36f')\"\n",
              "              title=\"Convert this dataframe to an interactive table.\"\n",
              "              style=\"display:none;\">\n",
              "        \n",
              "  <svg xmlns=\"http://www.w3.org/2000/svg\" height=\"24px\"viewBox=\"0 0 24 24\"\n",
              "       width=\"24px\">\n",
              "    <path d=\"M0 0h24v24H0V0z\" fill=\"none\"/>\n",
              "    <path d=\"M18.56 5.44l.94 2.06.94-2.06 2.06-.94-2.06-.94-.94-2.06-.94 2.06-2.06.94zm-11 1L8.5 8.5l.94-2.06 2.06-.94-2.06-.94L8.5 2.5l-.94 2.06-2.06.94zm10 10l.94 2.06.94-2.06 2.06-.94-2.06-.94-.94-2.06-.94 2.06-2.06.94z\"/><path d=\"M17.41 7.96l-1.37-1.37c-.4-.4-.92-.59-1.43-.59-.52 0-1.04.2-1.43.59L10.3 9.45l-7.72 7.72c-.78.78-.78 2.05 0 2.83L4 21.41c.39.39.9.59 1.41.59.51 0 1.02-.2 1.41-.59l7.78-7.78 2.81-2.81c.8-.78.8-2.07 0-2.86zM5.41 20L4 18.59l7.72-7.72 1.47 1.35L5.41 20z\"/>\n",
              "  </svg>\n",
              "      </button>\n",
              "      \n",
              "  <style>\n",
              "    .colab-df-container {\n",
              "      display:flex;\n",
              "      flex-wrap:wrap;\n",
              "      gap: 12px;\n",
              "    }\n",
              "\n",
              "    .colab-df-convert {\n",
              "      background-color: #E8F0FE;\n",
              "      border: none;\n",
              "      border-radius: 50%;\n",
              "      cursor: pointer;\n",
              "      display: none;\n",
              "      fill: #1967D2;\n",
              "      height: 32px;\n",
              "      padding: 0 0 0 0;\n",
              "      width: 32px;\n",
              "    }\n",
              "\n",
              "    .colab-df-convert:hover {\n",
              "      background-color: #E2EBFA;\n",
              "      box-shadow: 0px 1px 2px rgba(60, 64, 67, 0.3), 0px 1px 3px 1px rgba(60, 64, 67, 0.15);\n",
              "      fill: #174EA6;\n",
              "    }\n",
              "\n",
              "    [theme=dark] .colab-df-convert {\n",
              "      background-color: #3B4455;\n",
              "      fill: #D2E3FC;\n",
              "    }\n",
              "\n",
              "    [theme=dark] .colab-df-convert:hover {\n",
              "      background-color: #434B5C;\n",
              "      box-shadow: 0px 1px 3px 1px rgba(0, 0, 0, 0.15);\n",
              "      filter: drop-shadow(0px 1px 2px rgba(0, 0, 0, 0.3));\n",
              "      fill: #FFFFFF;\n",
              "    }\n",
              "  </style>\n",
              "\n",
              "      <script>\n",
              "        const buttonEl =\n",
              "          document.querySelector('#df-90093363-a99d-4fe1-8b1a-19484bc7a36f button.colab-df-convert');\n",
              "        buttonEl.style.display =\n",
              "          google.colab.kernel.accessAllowed ? 'block' : 'none';\n",
              "\n",
              "        async function convertToInteractive(key) {\n",
              "          const element = document.querySelector('#df-90093363-a99d-4fe1-8b1a-19484bc7a36f');\n",
              "          const dataTable =\n",
              "            await google.colab.kernel.invokeFunction('convertToInteractive',\n",
              "                                                     [key], {});\n",
              "          if (!dataTable) return;\n",
              "\n",
              "          const docLinkHtml = 'Like what you see? Visit the ' +\n",
              "            '<a target=\"_blank\" href=https://colab.research.google.com/notebooks/data_table.ipynb>data table notebook</a>'\n",
              "            + ' to learn more about interactive tables.';\n",
              "          element.innerHTML = '';\n",
              "          dataTable['output_type'] = 'display_data';\n",
              "          await google.colab.output.renderOutput(dataTable, element);\n",
              "          const docLink = document.createElement('div');\n",
              "          docLink.innerHTML = docLinkHtml;\n",
              "          element.appendChild(docLink);\n",
              "        }\n",
              "      </script>\n",
              "    </div>\n",
              "  </div>\n",
              "  "
            ]
          },
          "metadata": {},
          "execution_count": 72
        }
      ]
    },
    {
      "cell_type": "markdown",
      "source": [
        "# Classes of Symptoms"
      ],
      "metadata": {
        "id": "vzAqTSJYfBwM"
      }
    },
    {
      "cell_type": "code",
      "source": [
        "fig,ax = plt.subplots(figsize = (15, 8))\n",
        "sns.barplot(data = sym, y= sym['symptoms'] , x = sym['count'])\n",
        "ax.set(title = 'Classes of Symptoms');"
      ],
      "metadata": {
        "colab": {
          "base_uri": "https://localhost:8080/",
          "height": 513
        },
        "id": "J9eOlUa8Urdb",
        "outputId": "26ea34f5-185e-4a7b-c351-76b617c79894"
      },
      "execution_count": 70,
      "outputs": [
        {
          "output_type": "display_data",
          "data": {
            "text/plain": [
              "<Figure size 1080x576 with 1 Axes>"
            ],
            "image/png": "[encoded data removed]"
          },
          "metadata": {}
        }
      ]
    },
    {
      "cell_type": "code",
      "source": [
        "ag_gen = mp.Age.dropna().value_counts()\n",
        "ag_gen[:10]"
      ],
      "metadata": {
        "colab": {
          "base_uri": "https://localhost:8080/"
        },
        "id": "ymhbL_lMZNUZ",
        "outputId": "eb0cc76d-22c2-4003-d44e-48bd51a44771"
      },
      "execution_count": 67,
      "outputs": [
        {
          "output_type": "execute_result",
          "data": {
            "text/plain": [
              "20-64    60\n",
              "20-44    34\n",
              "30-59    17\n",
              "30-34     9\n",
              "25-29     8\n",
              "20-24     7\n",
              "30-39     5\n",
              "35-39     5\n",
              "40-44     3\n",
              "50-59     3\n",
              "Name: Age, dtype: int64"
            ]
          },
          "metadata": {},
          "execution_count": 67
        }
      ]
    },
    {
      "cell_type": "markdown",
      "source": [
        "# Age group mostly affected"
      ],
      "metadata": {
        "id": "Sm6M18Vee6Lf"
      }
    },
    {
      "cell_type": "code",
      "source": [
        "fig,ax = plt.subplots(figsize = (15, 8))\n",
        "ag_gen.plot(kind = 'bar')\n",
        "ax.set(title = 'Age group mostly affected');"
      ],
      "metadata": {
        "colab": {
          "base_uri": "https://localhost:8080/",
          "height": 535
        },
        "id": "EisuJkW8cWii",
        "outputId": "64feb297-2e8a-467f-f605-dfdab9113109"
      },
      "execution_count": 69,
      "outputs": [
        {
          "output_type": "execute_result",
          "data": {
            "text/plain": [
              "[Text(0.5, 1.0, 'Age group mostly affected')]"
            ]
          },
          "metadata": {},
          "execution_count": 69
        },
        {
          "output_type": "display_data",
          "data": {
            "text/plain": [
              "<Figure size 1080x576 with 1 Axes>"
            ],
            "image/png": "[encoded data removed]"
          },
          "metadata": {}
        }
      ]
    },
    {
      "cell_type": "markdown",
      "source": [
        "# Cases by Gender"
      ],
      "metadata": {
        "id": "34f0aIyWeMuA"
      }
    },
    {
      "cell_type": "code",
      "source": [
        "mp.Gender.value_counts()"
      ],
      "metadata": {
        "colab": {
          "base_uri": "https://localhost:8080/"
        },
        "id": "qi1UPxHRfRWP",
        "outputId": "c68c8a4f-629f-4c44-dd96-fa9576c837a1"
      },
      "execution_count": 74,
      "outputs": [
        {
          "output_type": "execute_result",
          "data": {
            "text/plain": [
              "male      308\n",
              "female      8\n",
              "Male        2\n",
              "male        1\n",
              "Name: Gender, dtype: int64"
            ]
          },
          "metadata": {},
          "execution_count": 74
        }
      ]
    },
    {
      "cell_type": "code",
      "source": [
        "fig,ax = plt.subplots(figsize = (8, 8))\n",
        "mp.Gender.value_counts().plot(kind ='pie', explode = [0.05,0.05,0.05,0.05], autopct='%.2f%%')"
      ],
      "metadata": {
        "colab": {
          "base_uri": "https://localhost:8080/",
          "height": 483
        },
        "id": "51_SZXOAfTZE",
        "outputId": "42acc4fd-c78c-43f1-e36b-30193526f7f3"
      },
      "execution_count": 86,
      "outputs": [
        {
          "output_type": "execute_result",
          "data": {
            "text/plain": [
              "<matplotlib.axes._subplots.AxesSubplot at 0x7fce7d5f7210>"
            ]
          },
          "metadata": {},
          "execution_count": 86
        },
        {
          "output_type": "display_data",
          "data": {
            "text/plain": [
              "<Figure size 576x576 with 1 Axes>"
            ],
            "image/png": "[encoded data removed]"
          },
          "metadata": {}
        }
      ]
    },
    {
      "cell_type": "code",
      "source": [
        "fig,ax = plt.subplots(figsize = (8, 8))\n",
        "sns.set()\n",
        "mp.Gender.value_counts().plot(kind = 'pie',explode = [0.05,0.05,0.05,0.05], autopct='%.2f%%')"
      ],
      "metadata": {
        "colab": {
          "base_uri": "https://localhost:8080/",
          "height": 483
        },
        "id": "EG02548bfX_6",
        "outputId": "e545f34e-31b5-4109-b145-8238bed50bd3"
      },
      "execution_count": 91,
      "outputs": [
        {
          "output_type": "execute_result",
          "data": {
            "text/plain": [
              "<matplotlib.axes._subplots.AxesSubplot at 0x7fce7d38d1d0>"
            ]
          },
          "metadata": {},
          "execution_count": 91
        },
        {
          "output_type": "display_data",
          "data": {
            "text/plain": [
              "<Figure size 576x576 with 1 Axes>"
            ],
            "image/png": "[encoded data removed]"
          },
          "metadata": {}
        }
      ]
    },
    {
      "cell_type": "code",
      "source": [
        "mp.loc[:, ['Travel_history_location','Travel_history_country']].dropna()"
      ],
      "metadata": {
        "colab": {
          "base_uri": "https://localhost:8080/",
          "height": 426
        },
        "id": "EUUV6TDng3Et",
        "outputId": "8d81dadd-363f-43ed-9e90-8d561f966966"
      },
      "execution_count": 93,
      "outputs": [
        {
          "output_type": "execute_result",
          "data": {
            "text/plain": [
              "    Travel_history_location Travel_history_country\n",
              "0    Lagos and Delta States                Nigeria\n",
              "6                    London                England\n",
              "67           Canary Islands                  Spain\n",
              "99                   Lisbon               Portugal\n",
              "107                  London                England\n",
              "195          Canary Islands                  Spain\n",
              "261          Canary Islands                  Spain\n",
              "263                 Antwerp                Belgium\n",
              "264          Canary Islands                  Spain\n",
              "439                Madrid;          Spain; Germany\n",
              "445           Canary Island                  Spain\n",
              "950              Queensland              Australia"
            ],
            "text/html": [
              "\n",
              "  <div id=\"df-61230b38-e949-4ac2-ad36-21cf6d6787a2\">\n",
              "    <div class=\"colab-df-container\">\n",
              "      <div>\n",
              "<style scoped>\n",
              "    .dataframe tbody tr th:only-of-type {\n",
              "        vertical-align: middle;\n",
              "    }\n",
              "\n",
              "    .dataframe tbody tr th {\n",
              "        vertical-align: top;\n",
              "    }\n",
              "\n",
              "    .dataframe thead th {\n",
              "        text-align: right;\n",
              "    }\n",
              "</style>\n",
              "<table border=\"1\" class=\"dataframe\">\n",
              "  <thead>\n",
              "    <tr style=\"text-align: right;\">\n",
              "      <th></th>\n",
              "      <th>Travel_history_location</th>\n",
              "      <th>Travel_history_country</th>\n",
              "    </tr>\n",
              "  </thead>\n",
              "  <tbody>\n",
              "    <tr>\n",
              "      <th>0</th>\n",
              "      <td>Lagos and Delta States</td>\n",
              "      <td>Nigeria</td>\n",
              "    </tr>\n",
              "    <tr>\n",
              "      <th>6</th>\n",
              "      <td>London</td>\n",
              "      <td>England</td>\n",
              "    </tr>\n",
              "    <tr>\n",
              "      <th>67</th>\n",
              "      <td>Canary Islands</td>\n",
              "      <td>Spain</td>\n",
              "    </tr>\n",
              "    <tr>\n",
              "      <th>99</th>\n",
              "      <td>Lisbon</td>\n",
              "      <td>Portugal</td>\n",
              "    </tr>\n",
              "    <tr>\n",
              "      <th>107</th>\n",
              "      <td>London</td>\n",
              "      <td>England</td>\n",
              "    </tr>\n",
              "    <tr>\n",
              "      <th>195</th>\n",
              "      <td>Canary Islands</td>\n",
              "      <td>Spain</td>\n",
              "    </tr>\n",
              "    <tr>\n",
              "      <th>261</th>\n",
              "      <td>Canary Islands</td>\n",
              "      <td>Spain</td>\n",
              "    </tr>\n",
              "    <tr>\n",
              "      <th>263</th>\n",
              "      <td>Antwerp</td>\n",
              "      <td>Belgium</td>\n",
              "    </tr>\n",
              "    <tr>\n",
              "      <th>264</th>\n",
              "      <td>Canary Islands</td>\n",
              "      <td>Spain</td>\n",
              "    </tr>\n",
              "    <tr>\n",
              "      <th>439</th>\n",
              "      <td>Madrid;</td>\n",
              "      <td>Spain; Germany</td>\n",
              "    </tr>\n",
              "    <tr>\n",
              "      <th>445</th>\n",
              "      <td>Canary Island</td>\n",
              "      <td>Spain</td>\n",
              "    </tr>\n",
              "    <tr>\n",
              "      <th>950</th>\n",
              "      <td>Queensland</td>\n",
              "      <td>Australia</td>\n",
              "    </tr>\n",
              "  </tbody>\n",
              "</table>\n",
              "</div>\n",
              "      <button class=\"colab-df-convert\" onclick=\"convertToInteractive('df-61230b38-e949-4ac2-ad36-21cf6d6787a2')\"\n",
              "              title=\"Convert this dataframe to an interactive table.\"\n",
              "              style=\"display:none;\">\n",
              "        \n",
              "  <svg xmlns=\"http://www.w3.org/2000/svg\" height=\"24px\"viewBox=\"0 0 24 24\"\n",
              "       width=\"24px\">\n",
              "    <path d=\"M0 0h24v24H0V0z\" fill=\"none\"/>\n",
              "    <path d=\"M18.56 5.44l.94 2.06.94-2.06 2.06-.94-2.06-.94-.94-2.06-.94 2.06-2.06.94zm-11 1L8.5 8.5l.94-2.06 2.06-.94-2.06-.94L8.5 2.5l-.94 2.06-2.06.94zm10 10l.94 2.06.94-2.06 2.06-.94-2.06-.94-.94-2.06-.94 2.06-2.06.94z\"/><path d=\"M17.41 7.96l-1.37-1.37c-.4-.4-.92-.59-1.43-.59-.52 0-1.04.2-1.43.59L10.3 9.45l-7.72 7.72c-.78.78-.78 2.05 0 2.83L4 21.41c.39.39.9.59 1.41.59.51 0 1.02-.2 1.41-.59l7.78-7.78 2.81-2.81c.8-.78.8-2.07 0-2.86zM5.41 20L4 18.59l7.72-7.72 1.47 1.35L5.41 20z\"/>\n",
              "  </svg>\n",
              "      </button>\n",
              "      \n",
              "  <style>\n",
              "    .colab-df-container {\n",
              "      display:flex;\n",
              "      flex-wrap:wrap;\n",
              "      gap: 12px;\n",
              "    }\n",
              "\n",
              "    .colab-df-convert {\n",
              "      background-color: #E8F0FE;\n",
              "      border: none;\n",
              "      border-radius: 50%;\n",
              "      cursor: pointer;\n",
              "      display: none;\n",
              "      fill: #1967D2;\n",
              "      height: 32px;\n",
              "      padding: 0 0 0 0;\n",
              "      width: 32px;\n",
              "    }\n",
              "\n",
              "    .colab-df-convert:hover {\n",
              "      background-color: #E2EBFA;\n",
              "      box-shadow: 0px 1px 2px rgba(60, 64, 67, 0.3), 0px 1px 3px 1px rgba(60, 64, 67, 0.15);\n",
              "      fill: #174EA6;\n",
              "    }\n",
              "\n",
              "    [theme=dark] .colab-df-convert {\n",
              "      background-color: #3B4455;\n",
              "      fill: #D2E3FC;\n",
              "    }\n",
              "\n",
              "    [theme=dark] .colab-df-convert:hover {\n",
              "      background-color: #434B5C;\n",
              "      box-shadow: 0px 1px 3px 1px rgba(0, 0, 0, 0.15);\n",
              "      filter: drop-shadow(0px 1px 2px rgba(0, 0, 0, 0.3));\n",
              "      fill: #FFFFFF;\n",
              "    }\n",
              "  </style>\n",
              "\n",
              "      <script>\n",
              "        const buttonEl =\n",
              "          document.querySelector('#df-61230b38-e949-4ac2-ad36-21cf6d6787a2 button.colab-df-convert');\n",
              "        buttonEl.style.display =\n",
              "          google.colab.kernel.accessAllowed ? 'block' : 'none';\n",
              "\n",
              "        async function convertToInteractive(key) {\n",
              "          const element = document.querySelector('#df-61230b38-e949-4ac2-ad36-21cf6d6787a2');\n",
              "          const dataTable =\n",
              "            await google.colab.kernel.invokeFunction('convertToInteractive',\n",
              "                                                     [key], {});\n",
              "          if (!dataTable) return;\n",
              "\n",
              "          const docLinkHtml = 'Like what you see? Visit the ' +\n",
              "            '<a target=\"_blank\" href=https://colab.research.google.com/notebooks/data_table.ipynb>data table notebook</a>'\n",
              "            + ' to learn more about interactive tables.';\n",
              "          element.innerHTML = '';\n",
              "          dataTable['output_type'] = 'display_data';\n",
              "          await google.colab.output.renderOutput(dataTable, element);\n",
              "          const docLink = document.createElement('div');\n",
              "          docLink.innerHTML = docLinkHtml;\n",
              "          element.appendChild(docLink);\n",
              "        }\n",
              "      </script>\n",
              "    </div>\n",
              "  </div>\n",
              "  "
            ]
          },
          "metadata": {},
          "execution_count": 93
        }
      ]
    },
    {
      "cell_type": "markdown",
      "source": [
        "# Average day between onset and confirmation "
      ],
      "metadata": {
        "id": "27aPKGzwig6F"
      }
    },
    {
      "cell_type": "code",
      "source": [
        "mp.loc[:, ['Date_onset', 'Date_confirmation']].dropna(how = 'any')"
      ],
      "metadata": {
        "colab": {
          "base_uri": "https://localhost:8080/",
          "height": 238
        },
        "id": "_4oGbFIzh0BI",
        "outputId": "005f8543-37e2-4601-d148-975c06364885"
      },
      "execution_count": 95,
      "outputs": [
        {
          "output_type": "execute_result",
          "data": {
            "text/plain": [
              "     Date_onset Date_confirmation\n",
              "0    2022-04-29        2022-05-06\n",
              "1    2022-05-05        2022-05-12\n",
              "2    2022-04-30        2022-05-13\n",
              "69   2022-04-29        2022-05-26\n",
              "107  2022-05-09        2022-05-20\n",
              "195  2022-05-15        2022-05-23"
            ],
            "text/html": [
              "\n",
              "  <div id=\"df-a0f9e780-ee1c-436b-bc76-5081a26e817a\">\n",
              "    <div class=\"colab-df-container\">\n",
              "      <div>\n",
              "<style scoped>\n",
              "    .dataframe tbody tr th:only-of-type {\n",
              "        vertical-align: middle;\n",
              "    }\n",
              "\n",
              "    .dataframe tbody tr th {\n",
              "        vertical-align: top;\n",
              "    }\n",
              "\n",
              "    .dataframe thead th {\n",
              "        text-align: right;\n",
              "    }\n",
              "</style>\n",
              "<table border=\"1\" class=\"dataframe\">\n",
              "  <thead>\n",
              "    <tr style=\"text-align: right;\">\n",
              "      <th></th>\n",
              "      <th>Date_onset</th>\n",
              "      <th>Date_confirmation</th>\n",
              "    </tr>\n",
              "  </thead>\n",
              "  <tbody>\n",
              "    <tr>\n",
              "      <th>0</th>\n",
              "      <td>2022-04-29</td>\n",
              "      <td>2022-05-06</td>\n",
              "    </tr>\n",
              "    <tr>\n",
              "      <th>1</th>\n",
              "      <td>2022-05-05</td>\n",
              "      <td>2022-05-12</td>\n",
              "    </tr>\n",
              "    <tr>\n",
              "      <th>2</th>\n",
              "      <td>2022-04-30</td>\n",
              "      <td>2022-05-13</td>\n",
              "    </tr>\n",
              "    <tr>\n",
              "      <th>69</th>\n",
              "      <td>2022-04-29</td>\n",
              "      <td>2022-05-26</td>\n",
              "    </tr>\n",
              "    <tr>\n",
              "      <th>107</th>\n",
              "      <td>2022-05-09</td>\n",
              "      <td>2022-05-20</td>\n",
              "    </tr>\n",
              "    <tr>\n",
              "      <th>195</th>\n",
              "      <td>2022-05-15</td>\n",
              "      <td>2022-05-23</td>\n",
              "    </tr>\n",
              "  </tbody>\n",
              "</table>\n",
              "</div>\n",
              "      <button class=\"colab-df-convert\" onclick=\"convertToInteractive('df-a0f9e780-ee1c-436b-bc76-5081a26e817a')\"\n",
              "              title=\"Convert this dataframe to an interactive table.\"\n",
              "              style=\"display:none;\">\n",
              "        \n",
              "  <svg xmlns=\"http://www.w3.org/2000/svg\" height=\"24px\"viewBox=\"0 0 24 24\"\n",
              "       width=\"24px\">\n",
              "    <path d=\"M0 0h24v24H0V0z\" fill=\"none\"/>\n",
              "    <path d=\"M18.56 5.44l.94 2.06.94-2.06 2.06-.94-2.06-.94-.94-2.06-.94 2.06-2.06.94zm-11 1L8.5 8.5l.94-2.06 2.06-.94-2.06-.94L8.5 2.5l-.94 2.06-2.06.94zm10 10l.94 2.06.94-2.06 2.06-.94-2.06-.94-.94-2.06-.94 2.06-2.06.94z\"/><path d=\"M17.41 7.96l-1.37-1.37c-.4-.4-.92-.59-1.43-.59-.52 0-1.04.2-1.43.59L10.3 9.45l-7.72 7.72c-.78.78-.78 2.05 0 2.83L4 21.41c.39.39.9.59 1.41.59.51 0 1.02-.2 1.41-.59l7.78-7.78 2.81-2.81c.8-.78.8-2.07 0-2.86zM5.41 20L4 18.59l7.72-7.72 1.47 1.35L5.41 20z\"/>\n",
              "  </svg>\n",
              "      </button>\n",
              "      \n",
              "  <style>\n",
              "    .colab-df-container {\n",
              "      display:flex;\n",
              "      flex-wrap:wrap;\n",
              "      gap: 12px;\n",
              "    }\n",
              "\n",
              "    .colab-df-convert {\n",
              "      background-color: #E8F0FE;\n",
              "      border: none;\n",
              "      border-radius: 50%;\n",
              "      cursor: pointer;\n",
              "      display: none;\n",
              "      fill: #1967D2;\n",
              "      height: 32px;\n",
              "      padding: 0 0 0 0;\n",
              "      width: 32px;\n",
              "    }\n",
              "\n",
              "    .colab-df-convert:hover {\n",
              "      background-color: #E2EBFA;\n",
              "      box-shadow: 0px 1px 2px rgba(60, 64, 67, 0.3), 0px 1px 3px 1px rgba(60, 64, 67, 0.15);\n",
              "      fill: #174EA6;\n",
              "    }\n",
              "\n",
              "    [theme=dark] .colab-df-convert {\n",
              "      background-color: #3B4455;\n",
              "      fill: #D2E3FC;\n",
              "    }\n",
              "\n",
              "    [theme=dark] .colab-df-convert:hover {\n",
              "      background-color: #434B5C;\n",
              "      box-shadow: 0px 1px 3px 1px rgba(0, 0, 0, 0.15);\n",
              "      filter: drop-shadow(0px 1px 2px rgba(0, 0, 0, 0.3));\n",
              "      fill: #FFFFFF;\n",
              "    }\n",
              "  </style>\n",
              "\n",
              "      <script>\n",
              "        const buttonEl =\n",
              "          document.querySelector('#df-a0f9e780-ee1c-436b-bc76-5081a26e817a button.colab-df-convert');\n",
              "        buttonEl.style.display =\n",
              "          google.colab.kernel.accessAllowed ? 'block' : 'none';\n",
              "\n",
              "        async function convertToInteractive(key) {\n",
              "          const element = document.querySelector('#df-a0f9e780-ee1c-436b-bc76-5081a26e817a');\n",
              "          const dataTable =\n",
              "            await google.colab.kernel.invokeFunction('convertToInteractive',\n",
              "                                                     [key], {});\n",
              "          if (!dataTable) return;\n",
              "\n",
              "          const docLinkHtml = 'Like what you see? Visit the ' +\n",
              "            '<a target=\"_blank\" href=https://colab.research.google.com/notebooks/data_table.ipynb>data table notebook</a>'\n",
              "            + ' to learn more about interactive tables.';\n",
              "          element.innerHTML = '';\n",
              "          dataTable['output_type'] = 'display_data';\n",
              "          await google.colab.output.renderOutput(dataTable, element);\n",
              "          const docLink = document.createElement('div');\n",
              "          docLink.innerHTML = docLinkHtml;\n",
              "          element.appendChild(docLink);\n",
              "        }\n",
              "      </script>\n",
              "    </div>\n",
              "  </div>\n",
              "  "
            ]
          },
          "metadata": {},
          "execution_count": 95
        }
      ]
    },
    {
      "cell_type": "code",
      "source": [
        "# convert to datetime\n",
        "mp.Date_confirmation = pd.to_datetime(mp[\"Date_confirmation\"])\n",
        "mp.Date_onset = pd.to_datetime(mp[\"Date_onset\"])"
      ],
      "metadata": {
        "id": "GQcPa438iYR9"
      },
      "execution_count": 102,
      "outputs": []
    },
    {
      "cell_type": "code",
      "source": [
        "mp['diffrence'] = mp.Date_confirmation -mp.Date_onset "
      ],
      "metadata": {
        "id": "sq-ije_Piou5"
      },
      "execution_count": 105,
      "outputs": []
    },
    {
      "cell_type": "code",
      "source": [
        "days_to_case = mp.loc[:, ['Date_onset', 'Date_confirmation', 'diffrence']].dropna(how = 'any')\n",
        "days_to_case"
      ],
      "metadata": {
        "colab": {
          "base_uri": "https://localhost:8080/",
          "height": 238
        },
        "id": "A6BqhcCvjpOu",
        "outputId": "f41434e5-96d2-49e8-fcc2-c269cada81c2"
      },
      "execution_count": 110,
      "outputs": [
        {
          "output_type": "execute_result",
          "data": {
            "text/plain": [
              "    Date_onset Date_confirmation diffrence\n",
              "0   2022-04-29        2022-05-06    7 days\n",
              "1   2022-05-05        2022-05-12    7 days\n",
              "2   2022-04-30        2022-05-13   13 days\n",
              "69  2022-04-29        2022-05-26   27 days\n",
              "107 2022-05-09        2022-05-20   11 days\n",
              "195 2022-05-15        2022-05-23    8 days"
            ],
            "text/html": [
              "\n",
              "  <div id=\"df-78b80c56-80e2-4f50-bb74-e30e731d14dc\">\n",
              "    <div class=\"colab-df-container\">\n",
              "      <div>\n",
              "<style scoped>\n",
              "    .dataframe tbody tr th:only-of-type {\n",
              "        vertical-align: middle;\n",
              "    }\n",
              "\n",
              "    .dataframe tbody tr th {\n",
              "        vertical-align: top;\n",
              "    }\n",
              "\n",
              "    .dataframe thead th {\n",
              "        text-align: right;\n",
              "    }\n",
              "</style>\n",
              "<table border=\"1\" class=\"dataframe\">\n",
              "  <thead>\n",
              "    <tr style=\"text-align: right;\">\n",
              "      <th></th>\n",
              "      <th>Date_onset</th>\n",
              "      <th>Date_confirmation</th>\n",
              "      <th>diffrence</th>\n",
              "    </tr>\n",
              "  </thead>\n",
              "  <tbody>\n",
              "    <tr>\n",
              "      <th>0</th>\n",
              "      <td>2022-04-29</td>\n",
              "      <td>2022-05-06</td>\n",
              "      <td>7 days</td>\n",
              "    </tr>\n",
              "    <tr>\n",
              "      <th>1</th>\n",
              "      <td>2022-05-05</td>\n",
              "      <td>2022-05-12</td>\n",
              "      <td>7 days</td>\n",
              "    </tr>\n",
              "    <tr>\n",
              "      <th>2</th>\n",
              "      <td>2022-04-30</td>\n",
              "      <td>2022-05-13</td>\n",
              "      <td>13 days</td>\n",
              "    </tr>\n",
              "    <tr>\n",
              "      <th>69</th>\n",
              "      <td>2022-04-29</td>\n",
              "      <td>2022-05-26</td>\n",
              "      <td>27 days</td>\n",
              "    </tr>\n",
              "    <tr>\n",
              "      <th>107</th>\n",
              "      <td>2022-05-09</td>\n",
              "      <td>2022-05-20</td>\n",
              "      <td>11 days</td>\n",
              "    </tr>\n",
              "    <tr>\n",
              "      <th>195</th>\n",
              "      <td>2022-05-15</td>\n",
              "      <td>2022-05-23</td>\n",
              "      <td>8 days</td>\n",
              "    </tr>\n",
              "  </tbody>\n",
              "</table>\n",
              "</div>\n",
              "      <button class=\"colab-df-convert\" onclick=\"convertToInteractive('df-78b80c56-80e2-4f50-bb74-e30e731d14dc')\"\n",
              "              title=\"Convert this dataframe to an interactive table.\"\n",
              "              style=\"display:none;\">\n",
              "        \n",
              "  <svg xmlns=\"http://www.w3.org/2000/svg\" height=\"24px\"viewBox=\"0 0 24 24\"\n",
              "       width=\"24px\">\n",
              "    <path d=\"M0 0h24v24H0V0z\" fill=\"none\"/>\n",
              "    <path d=\"M18.56 5.44l.94 2.06.94-2.06 2.06-.94-2.06-.94-.94-2.06-.94 2.06-2.06.94zm-11 1L8.5 8.5l.94-2.06 2.06-.94-2.06-.94L8.5 2.5l-.94 2.06-2.06.94zm10 10l.94 2.06.94-2.06 2.06-.94-2.06-.94-.94-2.06-.94 2.06-2.06.94z\"/><path d=\"M17.41 7.96l-1.37-1.37c-.4-.4-.92-.59-1.43-.59-.52 0-1.04.2-1.43.59L10.3 9.45l-7.72 7.72c-.78.78-.78 2.05 0 2.83L4 21.41c.39.39.9.59 1.41.59.51 0 1.02-.2 1.41-.59l7.78-7.78 2.81-2.81c.8-.78.8-2.07 0-2.86zM5.41 20L4 18.59l7.72-7.72 1.47 1.35L5.41 20z\"/>\n",
              "  </svg>\n",
              "      </button>\n",
              "      \n",
              "  <style>\n",
              "    .colab-df-container {\n",
              "      display:flex;\n",
              "      flex-wrap:wrap;\n",
              "      gap: 12px;\n",
              "    }\n",
              "\n",
              "    .colab-df-convert {\n",
              "      background-color: #E8F0FE;\n",
              "      border: none;\n",
              "      border-radius: 50%;\n",
              "      cursor: pointer;\n",
              "      display: none;\n",
              "      fill: #1967D2;\n",
              "      height: 32px;\n",
              "      padding: 0 0 0 0;\n",
              "      width: 32px;\n",
              "    }\n",
              "\n",
              "    .colab-df-convert:hover {\n",
              "      background-color: #E2EBFA;\n",
              "      box-shadow: 0px 1px 2px rgba(60, 64, 67, 0.3), 0px 1px 3px 1px rgba(60, 64, 67, 0.15);\n",
              "      fill: #174EA6;\n",
              "    }\n",
              "\n",
              "    [theme=dark] .colab-df-convert {\n",
              "      background-color: #3B4455;\n",
              "      fill: #D2E3FC;\n",
              "    }\n",
              "\n",
              "    [theme=dark] .colab-df-convert:hover {\n",
              "      background-color: #434B5C;\n",
              "      box-shadow: 0px 1px 3px 1px rgba(0, 0, 0, 0.15);\n",
              "      filter: drop-shadow(0px 1px 2px rgba(0, 0, 0, 0.3));\n",
              "      fill: #FFFFFF;\n",
              "    }\n",
              "  </style>\n",
              "\n",
              "      <script>\n",
              "        const buttonEl =\n",
              "          document.querySelector('#df-78b80c56-80e2-4f50-bb74-e30e731d14dc button.colab-df-convert');\n",
              "        buttonEl.style.display =\n",
              "          google.colab.kernel.accessAllowed ? 'block' : 'none';\n",
              "\n",
              "        async function convertToInteractive(key) {\n",
              "          const element = document.querySelector('#df-78b80c56-80e2-4f50-bb74-e30e731d14dc');\n",
              "          const dataTable =\n",
              "            await google.colab.kernel.invokeFunction('convertToInteractive',\n",
              "                                                     [key], {});\n",
              "          if (!dataTable) return;\n",
              "\n",
              "          const docLinkHtml = 'Like what you see? Visit the ' +\n",
              "            '<a target=\"_blank\" href=https://colab.research.google.com/notebooks/data_table.ipynb>data table notebook</a>'\n",
              "            + ' to learn more about interactive tables.';\n",
              "          element.innerHTML = '';\n",
              "          dataTable['output_type'] = 'display_data';\n",
              "          await google.colab.output.renderOutput(dataTable, element);\n",
              "          const docLink = document.createElement('div');\n",
              "          docLink.innerHTML = docLinkHtml;\n",
              "          element.appendChild(docLink);\n",
              "        }\n",
              "      </script>\n",
              "    </div>\n",
              "  </div>\n",
              "  "
            ]
          },
          "metadata": {},
          "execution_count": 110
        }
      ]
    },
    {
      "cell_type": "code",
      "source": [
        "#@ Average of 12 days from detection to confirmation\n",
        "days_to_case.diffrence.mean()"
      ],
      "metadata": {
        "colab": {
          "base_uri": "https://localhost:8080/"
        },
        "id": "1eUmi-NWjy8a",
        "outputId": "a61eca3c-2f89-42fe-d604-4b02a343a0de"
      },
      "execution_count": 112,
      "outputs": [
        {
          "output_type": "execute_result",
          "data": {
            "text/plain": [
              "Timedelta('12 days 04:00:00')"
            ]
          },
          "metadata": {},
          "execution_count": 112
        }
      ]
    },
    {
      "cell_type": "markdown",
      "source": [
        "# Average day between onset and confirmation  = 12 days\n",
        "# least day is 7 days\n",
        "# Highest day is 27day"
      ],
      "metadata": {
        "id": "Li2qZfGHkpbH"
      }
    },
    {
      "cell_type": "code",
      "source": [
        ""
      ],
      "metadata": {
        "id": "C8IisaJrldO5"
      },
      "execution_count": null,
      "outputs": []
    }
  ]
}